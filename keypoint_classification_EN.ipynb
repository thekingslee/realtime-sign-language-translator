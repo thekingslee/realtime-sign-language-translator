{
 "cells": [
  {
   "cell_type": "code",
   "execution_count": 1,
   "metadata": {
    "id": "igMyGnjE9hEp"
   },
   "outputs": [],
   "source": [
    "import csv\n",
    "\n",
    "import numpy as np\n",
    "import tensorflow as tf\n",
    "from sklearn.model_selection import train_test_split\n",
    "\n",
    "RANDOM_SEED = 42"
   ]
  },
  {
   "cell_type": "markdown",
   "metadata": {
    "id": "t2HDvhIu9hEr"
   },
   "source": [
    "# Specify each path"
   ]
  },
  {
   "cell_type": "code",
   "execution_count": 2,
   "metadata": {
    "id": "9NvZP2Zn9hEy"
   },
   "outputs": [],
   "source": [
    "dataset = 'model/keypoint_classifier/keypoint.csv'\n",
    "model_save_path = 'model/keypoint_classifier/keypoint_classifier.keras'\n",
    "tflite_save_path = 'model/keypoint_classifier/keypoint_classifier.tflite'"
   ]
  },
  {
   "cell_type": "markdown",
   "metadata": {
    "id": "s5oMH7x19hEz"
   },
   "source": [
    "# Set number of classes"
   ]
  },
  {
   "cell_type": "code",
   "execution_count": 3,
   "metadata": {
    "id": "du4kodXL9hEz"
   },
   "outputs": [],
   "source": [
    "NUM_CLASSES = 5"
   ]
  },
  {
   "cell_type": "markdown",
   "metadata": {
    "id": "XjnL0uso9hEz"
   },
   "source": [
    "# Dataset reading"
   ]
  },
  {
   "cell_type": "code",
   "execution_count": 4,
   "metadata": {
    "id": "QT5ZqtEz9hE0"
   },
   "outputs": [],
   "source": [
    "X_dataset = np.loadtxt(dataset, delimiter=',', dtype='float32', usecols=list(range(1, (21 * 2) + 1)))"
   ]
  },
  {
   "cell_type": "code",
   "execution_count": 5,
   "metadata": {
    "id": "QmoKFsp49hE0"
   },
   "outputs": [],
   "source": [
    "y_dataset = np.loadtxt(dataset, delimiter=',', dtype='int32', usecols=(0))"
   ]
  },
  {
   "cell_type": "code",
   "execution_count": 6,
   "metadata": {
    "id": "xQU7JTZ_9hE0"
   },
   "outputs": [],
   "source": [
    "X_train, X_test, y_train, y_test = train_test_split(X_dataset, y_dataset, train_size=0.75, random_state=RANDOM_SEED)"
   ]
  },
  {
   "cell_type": "code",
   "execution_count": 7,
   "metadata": {
    "id": "xQU7JTZ_9hE0"
   },
   "outputs": [],
   "source": [
    "X_train, X_test, y_train, y_test = train_test_split(X_dataset, y_dataset, train_size=0.75, random_state=RANDOM_SEED)"
   ]
  },
  {
   "cell_type": "markdown",
   "metadata": {
    "id": "mxK_lETT9hE0"
   },
   "source": [
    "# Model building"
   ]
  },
  {
   "cell_type": "code",
   "execution_count": 8,
   "metadata": {
    "id": "vHBmUf1t9hE1"
   },
   "outputs": [],
   "source": [
    "model = tf.keras.models.Sequential([\n",
    "    tf.keras.layers.Input((21 * 2, )),\n",
    "    tf.keras.layers.Dropout(0.2),\n",
    "    tf.keras.layers.Dense(20, activation='relu'),\n",
    "    tf.keras.layers.Dropout(0.4),\n",
    "    tf.keras.layers.Dense(10, activation='relu'),\n",
    "    tf.keras.layers.Dense(NUM_CLASSES, activation='softmax')\n",
    "])"
   ]
  },
  {
   "cell_type": "code",
   "execution_count": 9,
   "metadata": {
    "colab": {
     "base_uri": "https://localhost:8080/"
    },
    "id": "ypqky9tc9hE1",
    "outputId": "5db082bb-30e3-4110-bf63-a1ee777ecd46"
   },
   "outputs": [
    {
     "name": "stdout",
     "output_type": "stream",
     "text": [
      "Model: \"sequential\"\n",
      "_________________________________________________________________\n",
      " Layer (type)                Output Shape              Param #   \n",
      "=================================================================\n",
      " dropout (Dropout)           (None, 42)                0         \n",
      "                                                                 \n",
      " dense (Dense)               (None, 20)                860       \n",
      "                                                                 \n",
      " dropout_1 (Dropout)         (None, 20)                0         \n",
      "                                                                 \n",
      " dense_1 (Dense)             (None, 10)                210       \n",
      "                                                                 \n",
      " dense_2 (Dense)             (None, 5)                 55        \n",
      "                                                                 \n",
      "=================================================================\n",
      "Total params: 1125 (4.39 KB)\n",
      "Trainable params: 1125 (4.39 KB)\n",
      "Non-trainable params: 0 (0.00 Byte)\n",
      "_________________________________________________________________\n"
     ]
    }
   ],
   "source": [
    "model.summary()  # tf.keras.utils.plot_model(model, show_shapes=True)"
   ]
  },
  {
   "cell_type": "code",
   "execution_count": 10,
   "metadata": {
    "id": "MbMjOflQ9hE1"
   },
   "outputs": [],
   "source": [
    "# Model checkpoint callback\n",
    "cp_callback = tf.keras.callbacks.ModelCheckpoint(\n",
    "    model_save_path, verbose=1, save_weights_only=False)\n",
    "# Callback for early stopping\n",
    "es_callback = tf.keras.callbacks.EarlyStopping(patience=20, verbose=1)"
   ]
  },
  {
   "cell_type": "code",
   "execution_count": 11,
   "metadata": {
    "id": "c3Dac0M_9hE2"
   },
   "outputs": [],
   "source": [
    "# Model compilation\n",
    "model.compile(\n",
    "    optimizer='adam',\n",
    "    loss='sparse_categorical_crossentropy',\n",
    "    metrics=['accuracy']\n",
    ")"
   ]
  },
  {
   "cell_type": "markdown",
   "metadata": {
    "id": "7XI0j1Iu9hE2"
   },
   "source": [
    "# Model training"
   ]
  },
  {
   "cell_type": "code",
   "execution_count": 12,
   "metadata": {
    "colab": {
     "base_uri": "https://localhost:8080/"
    },
    "id": "WirBl-JE9hE3",
    "outputId": "71b30ca2-8294-4d9d-8aa2-800d90d399de",
    "scrolled": true
   },
   "outputs": [
    {
     "name": "stdout",
     "output_type": "stream",
     "text": [
      "Epoch 1/1000\n",
      " 1/29 [>.............................] - ETA: 7s - loss: 1.9280 - accuracy: 0.1016\n",
      "Epoch 1: saving model to model/keypoint_classifier/keypoint_classifier.keras\n",
      "29/29 [==============================] - 0s 6ms/step - loss: 1.7901 - accuracy: 0.1275 - val_loss: 1.6265 - val_accuracy: 0.2425\n",
      "Epoch 2/1000\n",
      " 1/29 [>.............................] - ETA: 0s - loss: 1.6009 - accuracy: 0.2734\n",
      "Epoch 2: saving model to model/keypoint_classifier/keypoint_classifier.keras\n",
      "29/29 [==============================] - 0s 2ms/step - loss: 1.6005 - accuracy: 0.2799 - val_loss: 1.5146 - val_accuracy: 0.3816\n",
      "Epoch 3/1000\n",
      " 1/29 [>.............................] - ETA: 0s - loss: 1.5448 - accuracy: 0.3203\n",
      "Epoch 3: saving model to model/keypoint_classifier/keypoint_classifier.keras\n",
      "29/29 [==============================] - 0s 2ms/step - loss: 1.4939 - accuracy: 0.3530 - val_loss: 1.4226 - val_accuracy: 0.3709\n",
      "Epoch 4/1000\n",
      " 1/29 [>.............................] - ETA: 0s - loss: 1.4921 - accuracy: 0.3281\n",
      "Epoch 4: saving model to model/keypoint_classifier/keypoint_classifier.keras\n",
      "29/29 [==============================] - 0s 2ms/step - loss: 1.4080 - accuracy: 0.3828 - val_loss: 1.3174 - val_accuracy: 0.4139\n",
      "Epoch 5/1000\n",
      " 1/29 [>.............................] - ETA: 0s - loss: 1.3999 - accuracy: 0.3438\n",
      "Epoch 5: saving model to model/keypoint_classifier/keypoint_classifier.keras\n",
      "29/29 [==============================] - 0s 2ms/step - loss: 1.3151 - accuracy: 0.4289 - val_loss: 1.2113 - val_accuracy: 0.5166\n",
      "Epoch 6/1000\n",
      " 1/29 [>.............................] - ETA: 0s - loss: 1.2922 - accuracy: 0.4219\n",
      "Epoch 6: saving model to model/keypoint_classifier/keypoint_classifier.keras\n",
      "29/29 [==============================] - 0s 2ms/step - loss: 1.2426 - accuracy: 0.4485 - val_loss: 1.1161 - val_accuracy: 0.5704\n",
      "Epoch 7/1000\n",
      " 1/29 [>.............................] - ETA: 0s - loss: 1.2126 - accuracy: 0.5000\n",
      "Epoch 7: saving model to model/keypoint_classifier/keypoint_classifier.keras\n",
      "29/29 [==============================] - 0s 2ms/step - loss: 1.1783 - accuracy: 0.4758 - val_loss: 1.0420 - val_accuracy: 0.6233\n",
      "Epoch 8/1000\n",
      " 1/29 [>.............................] - ETA: 0s - loss: 1.1027 - accuracy: 0.5703\n",
      "Epoch 8: saving model to model/keypoint_classifier/keypoint_classifier.keras\n",
      "29/29 [==============================] - 0s 2ms/step - loss: 1.1286 - accuracy: 0.5012 - val_loss: 0.9843 - val_accuracy: 0.6416\n",
      "Epoch 9/1000\n",
      " 1/29 [>.............................] - ETA: 0s - loss: 1.1040 - accuracy: 0.5391\n",
      "Epoch 9: saving model to model/keypoint_classifier/keypoint_classifier.keras\n",
      "29/29 [==============================] - 0s 2ms/step - loss: 1.1005 - accuracy: 0.5131 - val_loss: 0.9358 - val_accuracy: 0.6631\n",
      "Epoch 10/1000\n",
      " 1/29 [>.............................] - ETA: 0s - loss: 1.0336 - accuracy: 0.5391\n",
      "Epoch 10: saving model to model/keypoint_classifier/keypoint_classifier.keras\n",
      "29/29 [==============================] - 0s 2ms/step - loss: 1.0763 - accuracy: 0.5219 - val_loss: 0.8938 - val_accuracy: 0.6763\n",
      "Epoch 11/1000\n",
      " 1/29 [>.............................] - ETA: 0s - loss: 1.1057 - accuracy: 0.5078\n",
      "Epoch 11: saving model to model/keypoint_classifier/keypoint_classifier.keras\n",
      "29/29 [==============================] - 0s 2ms/step - loss: 1.0454 - accuracy: 0.5324 - val_loss: 0.8527 - val_accuracy: 0.7012\n",
      "Epoch 12/1000\n",
      " 1/29 [>.............................] - ETA: 0s - loss: 1.0139 - accuracy: 0.5391\n",
      "Epoch 12: saving model to model/keypoint_classifier/keypoint_classifier.keras\n",
      "29/29 [==============================] - 0s 2ms/step - loss: 1.0182 - accuracy: 0.5523 - val_loss: 0.8118 - val_accuracy: 0.7210\n",
      "Epoch 13/1000\n",
      " 1/29 [>.............................] - ETA: 0s - loss: 0.9634 - accuracy: 0.5938\n",
      "Epoch 13: saving model to model/keypoint_classifier/keypoint_classifier.keras\n",
      "29/29 [==============================] - 0s 2ms/step - loss: 0.9764 - accuracy: 0.5722 - val_loss: 0.7785 - val_accuracy: 0.7334\n",
      "Epoch 14/1000\n",
      " 1/29 [>.............................] - ETA: 0s - loss: 0.9549 - accuracy: 0.5703\n",
      "Epoch 14: saving model to model/keypoint_classifier/keypoint_classifier.keras\n",
      "29/29 [==============================] - 0s 2ms/step - loss: 0.9493 - accuracy: 0.5799 - val_loss: 0.7450 - val_accuracy: 0.7376\n",
      "Epoch 15/1000\n",
      " 1/29 [>.............................] - ETA: 0s - loss: 0.9427 - accuracy: 0.5781\n",
      "Epoch 15: saving model to model/keypoint_classifier/keypoint_classifier.keras\n",
      "29/29 [==============================] - 0s 2ms/step - loss: 0.9363 - accuracy: 0.5785 - val_loss: 0.7130 - val_accuracy: 0.7467\n",
      "Epoch 16/1000\n",
      " 1/29 [>.............................] - ETA: 0s - loss: 0.8684 - accuracy: 0.6250\n",
      "Epoch 16: saving model to model/keypoint_classifier/keypoint_classifier.keras\n",
      "29/29 [==============================] - 0s 2ms/step - loss: 0.9089 - accuracy: 0.6034 - val_loss: 0.6890 - val_accuracy: 0.7517\n",
      "Epoch 17/1000\n",
      " 1/29 [>.............................] - ETA: 0s - loss: 0.9631 - accuracy: 0.4844\n",
      "Epoch 17: saving model to model/keypoint_classifier/keypoint_classifier.keras\n",
      "29/29 [==============================] - 0s 2ms/step - loss: 0.8999 - accuracy: 0.5940 - val_loss: 0.6640 - val_accuracy: 0.7616\n",
      "Epoch 18/1000\n",
      " 1/29 [>.............................] - ETA: 0s - loss: 0.9453 - accuracy: 0.5312\n",
      "Epoch 18: saving model to model/keypoint_classifier/keypoint_classifier.keras\n",
      "29/29 [==============================] - 0s 2ms/step - loss: 0.8881 - accuracy: 0.6020 - val_loss: 0.6443 - val_accuracy: 0.7724\n",
      "Epoch 19/1000\n",
      " 1/29 [>.............................] - ETA: 0s - loss: 0.9654 - accuracy: 0.5781\n",
      "Epoch 19: saving model to model/keypoint_classifier/keypoint_classifier.keras\n",
      "29/29 [==============================] - 0s 2ms/step - loss: 0.8706 - accuracy: 0.6161 - val_loss: 0.6281 - val_accuracy: 0.7930\n",
      "Epoch 20/1000\n",
      " 1/29 [>.............................] - ETA: 0s - loss: 0.8472 - accuracy: 0.6016\n",
      "Epoch 20: saving model to model/keypoint_classifier/keypoint_classifier.keras\n",
      "29/29 [==============================] - 0s 2ms/step - loss: 0.8523 - accuracy: 0.6155 - val_loss: 0.6055 - val_accuracy: 0.8444\n",
      "Epoch 21/1000\n",
      " 1/29 [>.............................] - ETA: 0s - loss: 0.8209 - accuracy: 0.7188\n",
      "Epoch 21: saving model to model/keypoint_classifier/keypoint_classifier.keras\n",
      "29/29 [==============================] - 0s 2ms/step - loss: 0.8523 - accuracy: 0.6365 - val_loss: 0.5852 - val_accuracy: 0.8551\n",
      "Epoch 22/1000\n",
      " 1/29 [>.............................] - ETA: 0s - loss: 0.8491 - accuracy: 0.6250\n",
      "Epoch 22: saving model to model/keypoint_classifier/keypoint_classifier.keras\n",
      "29/29 [==============================] - 0s 2ms/step - loss: 0.8184 - accuracy: 0.6478 - val_loss: 0.5658 - val_accuracy: 0.8618\n",
      "Epoch 23/1000\n",
      " 1/29 [>.............................] - ETA: 0s - loss: 0.8502 - accuracy: 0.6562\n",
      "Epoch 23: saving model to model/keypoint_classifier/keypoint_classifier.keras\n",
      "29/29 [==============================] - 0s 2ms/step - loss: 0.7940 - accuracy: 0.6611 - val_loss: 0.5430 - val_accuracy: 0.8609\n",
      "Epoch 24/1000\n",
      " 1/29 [>.............................] - ETA: 0s - loss: 0.7774 - accuracy: 0.6875\n",
      "Epoch 24: saving model to model/keypoint_classifier/keypoint_classifier.keras\n",
      "29/29 [==============================] - 0s 2ms/step - loss: 0.7957 - accuracy: 0.6508 - val_loss: 0.5276 - val_accuracy: 0.8717\n",
      "Epoch 25/1000\n",
      " 1/29 [>.............................] - ETA: 0s - loss: 0.7959 - accuracy: 0.6172\n",
      "Epoch 25: saving model to model/keypoint_classifier/keypoint_classifier.keras\n",
      "29/29 [==============================] - 0s 2ms/step - loss: 0.7854 - accuracy: 0.6627 - val_loss: 0.5195 - val_accuracy: 0.8783\n",
      "Epoch 26/1000\n",
      " 1/29 [>.............................] - ETA: 0s - loss: 0.6003 - accuracy: 0.7500\n",
      "Epoch 26: saving model to model/keypoint_classifier/keypoint_classifier.keras\n",
      "29/29 [==============================] - 0s 2ms/step - loss: 0.7773 - accuracy: 0.6710 - val_loss: 0.5091 - val_accuracy: 0.8841\n",
      "Epoch 27/1000\n",
      " 1/29 [>.............................] - ETA: 0s - loss: 0.6934 - accuracy: 0.7266\n",
      "Epoch 27: saving model to model/keypoint_classifier/keypoint_classifier.keras\n",
      "29/29 [==============================] - 0s 2ms/step - loss: 0.7650 - accuracy: 0.6776 - val_loss: 0.4910 - val_accuracy: 0.8874\n",
      "Epoch 28/1000\n",
      " 1/29 [>.............................] - ETA: 0s - loss: 0.7856 - accuracy: 0.6328\n",
      "Epoch 28: saving model to model/keypoint_classifier/keypoint_classifier.keras\n",
      "29/29 [==============================] - 0s 2ms/step - loss: 0.7496 - accuracy: 0.6793 - val_loss: 0.4831 - val_accuracy: 0.8858\n",
      "Epoch 29/1000\n",
      " 1/29 [>.............................] - ETA: 0s - loss: 0.6644 - accuracy: 0.7734\n",
      "Epoch 29: saving model to model/keypoint_classifier/keypoint_classifier.keras\n",
      "29/29 [==============================] - 0s 2ms/step - loss: 0.7396 - accuracy: 0.7008 - val_loss: 0.4739 - val_accuracy: 0.8932\n",
      "Epoch 30/1000\n",
      " 1/29 [>.............................] - ETA: 0s - loss: 0.7763 - accuracy: 0.6719\n",
      "Epoch 30: saving model to model/keypoint_classifier/keypoint_classifier.keras\n",
      "29/29 [==============================] - 0s 2ms/step - loss: 0.7315 - accuracy: 0.6953 - val_loss: 0.4608 - val_accuracy: 0.9007\n",
      "Epoch 31/1000\n",
      " 1/29 [>.............................] - ETA: 0s - loss: 0.7273 - accuracy: 0.7031\n",
      "Epoch 31: saving model to model/keypoint_classifier/keypoint_classifier.keras\n",
      "29/29 [==============================] - 0s 2ms/step - loss: 0.7242 - accuracy: 0.7055 - val_loss: 0.4561 - val_accuracy: 0.9147\n",
      "Epoch 32/1000\n",
      " 1/29 [>.............................] - ETA: 0s - loss: 0.6418 - accuracy: 0.7266\n",
      "Epoch 32: saving model to model/keypoint_classifier/keypoint_classifier.keras\n",
      "29/29 [==============================] - 0s 2ms/step - loss: 0.7089 - accuracy: 0.6994 - val_loss: 0.4397 - val_accuracy: 0.9156\n",
      "Epoch 33/1000\n",
      " 1/29 [>.............................] - ETA: 0s - loss: 0.7611 - accuracy: 0.6250\n",
      "Epoch 33: saving model to model/keypoint_classifier/keypoint_classifier.keras\n",
      "29/29 [==============================] - 0s 2ms/step - loss: 0.6926 - accuracy: 0.7044 - val_loss: 0.4310 - val_accuracy: 0.9255\n",
      "Epoch 34/1000\n",
      " 1/29 [>.............................] - ETA: 0s - loss: 0.6465 - accuracy: 0.7500\n",
      "Epoch 34: saving model to model/keypoint_classifier/keypoint_classifier.keras\n",
      "29/29 [==============================] - 0s 2ms/step - loss: 0.6994 - accuracy: 0.7176 - val_loss: 0.4223 - val_accuracy: 0.9247\n",
      "Epoch 35/1000\n",
      " 1/29 [>.............................] - ETA: 0s - loss: 0.5480 - accuracy: 0.8203\n",
      "Epoch 35: saving model to model/keypoint_classifier/keypoint_classifier.keras\n",
      "29/29 [==============================] - 0s 2ms/step - loss: 0.6912 - accuracy: 0.7237 - val_loss: 0.4121 - val_accuracy: 0.9329\n",
      "Epoch 36/1000\n",
      " 1/29 [>.............................] - ETA: 0s - loss: 0.8918 - accuracy: 0.6797\n",
      "Epoch 36: saving model to model/keypoint_classifier/keypoint_classifier.keras\n",
      "29/29 [==============================] - 0s 2ms/step - loss: 0.6880 - accuracy: 0.7201 - val_loss: 0.4070 - val_accuracy: 0.9354\n",
      "Epoch 37/1000\n",
      " 1/29 [>.............................] - ETA: 0s - loss: 0.5747 - accuracy: 0.7734\n",
      "Epoch 37: saving model to model/keypoint_classifier/keypoint_classifier.keras\n",
      "29/29 [==============================] - 0s 2ms/step - loss: 0.6950 - accuracy: 0.7157 - val_loss: 0.4002 - val_accuracy: 0.9371\n",
      "Epoch 38/1000\n",
      " 1/29 [>.............................] - ETA: 0s - loss: 0.5991 - accuracy: 0.7500\n",
      "Epoch 38: saving model to model/keypoint_classifier/keypoint_classifier.keras\n",
      "29/29 [==============================] - 0s 2ms/step - loss: 0.6685 - accuracy: 0.7303 - val_loss: 0.3926 - val_accuracy: 0.9338\n",
      "Epoch 39/1000\n",
      " 1/29 [>.............................] - ETA: 0s - loss: 0.7716 - accuracy: 0.7422\n",
      "Epoch 39: saving model to model/keypoint_classifier/keypoint_classifier.keras\n",
      "29/29 [==============================] - 0s 2ms/step - loss: 0.6726 - accuracy: 0.7303 - val_loss: 0.3815 - val_accuracy: 0.9363\n",
      "Epoch 40/1000\n",
      " 1/29 [>.............................] - ETA: 0s - loss: 0.6597 - accuracy: 0.7891\n",
      "Epoch 40: saving model to model/keypoint_classifier/keypoint_classifier.keras\n",
      "29/29 [==============================] - 0s 2ms/step - loss: 0.6718 - accuracy: 0.7342 - val_loss: 0.3846 - val_accuracy: 0.9437\n",
      "Epoch 41/1000\n",
      " 1/29 [>.............................] - ETA: 0s - loss: 0.6054 - accuracy: 0.7578\n",
      "Epoch 41: saving model to model/keypoint_classifier/keypoint_classifier.keras\n",
      "29/29 [==============================] - 0s 2ms/step - loss: 0.6746 - accuracy: 0.7328 - val_loss: 0.3812 - val_accuracy: 0.9429\n",
      "Epoch 42/1000\n",
      " 1/29 [>.............................] - ETA: 0s - loss: 0.6957 - accuracy: 0.7500\n",
      "Epoch 42: saving model to model/keypoint_classifier/keypoint_classifier.keras\n",
      "29/29 [==============================] - 0s 2ms/step - loss: 0.6646 - accuracy: 0.7350 - val_loss: 0.3699 - val_accuracy: 0.9437\n",
      "Epoch 43/1000\n",
      " 1/29 [>.............................] - ETA: 0s - loss: 0.6430 - accuracy: 0.7656\n",
      "Epoch 43: saving model to model/keypoint_classifier/keypoint_classifier.keras\n",
      "29/29 [==============================] - 0s 2ms/step - loss: 0.6532 - accuracy: 0.7463 - val_loss: 0.3664 - val_accuracy: 0.9421\n",
      "Epoch 44/1000\n",
      " 1/29 [>.............................] - ETA: 0s - loss: 0.6856 - accuracy: 0.7422\n",
      "Epoch 44: saving model to model/keypoint_classifier/keypoint_classifier.keras\n",
      "29/29 [==============================] - 0s 2ms/step - loss: 0.6423 - accuracy: 0.7477 - val_loss: 0.3562 - val_accuracy: 0.9445\n",
      "Epoch 45/1000\n",
      " 1/29 [>.............................] - ETA: 0s - loss: 0.5469 - accuracy: 0.7656\n",
      "Epoch 45: saving model to model/keypoint_classifier/keypoint_classifier.keras\n",
      "29/29 [==============================] - 0s 2ms/step - loss: 0.6184 - accuracy: 0.7535 - val_loss: 0.3483 - val_accuracy: 0.9512\n",
      "Epoch 46/1000\n",
      " 1/29 [>.............................] - ETA: 0s - loss: 0.7113 - accuracy: 0.7344\n",
      "Epoch 46: saving model to model/keypoint_classifier/keypoint_classifier.keras\n",
      "29/29 [==============================] - 0s 2ms/step - loss: 0.6447 - accuracy: 0.7502 - val_loss: 0.3452 - val_accuracy: 0.9495\n",
      "Epoch 47/1000\n",
      " 1/29 [>.............................] - ETA: 0s - loss: 0.7235 - accuracy: 0.6953\n",
      "Epoch 47: saving model to model/keypoint_classifier/keypoint_classifier.keras\n",
      "29/29 [==============================] - 0s 2ms/step - loss: 0.6228 - accuracy: 0.7624 - val_loss: 0.3462 - val_accuracy: 0.9462\n",
      "Epoch 48/1000\n",
      " 1/29 [>.............................] - ETA: 0s - loss: 0.7465 - accuracy: 0.6953\n",
      "Epoch 48: saving model to model/keypoint_classifier/keypoint_classifier.keras\n",
      "29/29 [==============================] - 0s 2ms/step - loss: 0.6123 - accuracy: 0.7590 - val_loss: 0.3318 - val_accuracy: 0.9470\n",
      "Epoch 49/1000\n",
      " 1/29 [>.............................] - ETA: 0s - loss: 0.5564 - accuracy: 0.7578\n",
      "Epoch 49: saving model to model/keypoint_classifier/keypoint_classifier.keras\n",
      "29/29 [==============================] - 0s 2ms/step - loss: 0.6194 - accuracy: 0.7541 - val_loss: 0.3319 - val_accuracy: 0.9462\n",
      "Epoch 50/1000\n",
      " 1/29 [>.............................] - ETA: 0s - loss: 0.5129 - accuracy: 0.8516\n",
      "Epoch 50: saving model to model/keypoint_classifier/keypoint_classifier.keras\n",
      "29/29 [==============================] - 0s 2ms/step - loss: 0.5958 - accuracy: 0.7753 - val_loss: 0.3205 - val_accuracy: 0.9512\n",
      "Epoch 51/1000\n",
      " 1/29 [>.............................] - ETA: 0s - loss: 0.4919 - accuracy: 0.8125\n",
      "Epoch 51: saving model to model/keypoint_classifier/keypoint_classifier.keras\n",
      "29/29 [==============================] - 0s 2ms/step - loss: 0.6301 - accuracy: 0.7557 - val_loss: 0.3241 - val_accuracy: 0.9445\n",
      "Epoch 52/1000\n",
      " 1/29 [>.............................] - ETA: 0s - loss: 0.6138 - accuracy: 0.7266\n",
      "Epoch 52: saving model to model/keypoint_classifier/keypoint_classifier.keras\n",
      "29/29 [==============================] - 0s 2ms/step - loss: 0.6053 - accuracy: 0.7585 - val_loss: 0.3175 - val_accuracy: 0.9528\n",
      "Epoch 53/1000\n",
      " 1/29 [>.............................] - ETA: 0s - loss: 0.4475 - accuracy: 0.8281\n",
      "Epoch 53: saving model to model/keypoint_classifier/keypoint_classifier.keras\n",
      "29/29 [==============================] - 0s 2ms/step - loss: 0.6011 - accuracy: 0.7668 - val_loss: 0.3103 - val_accuracy: 0.9528\n",
      "Epoch 54/1000\n",
      " 1/29 [>.............................] - ETA: 0s - loss: 0.5997 - accuracy: 0.8125\n",
      "Epoch 54: saving model to model/keypoint_classifier/keypoint_classifier.keras\n",
      "29/29 [==============================] - 0s 2ms/step - loss: 0.6073 - accuracy: 0.7676 - val_loss: 0.3109 - val_accuracy: 0.9520\n",
      "Epoch 55/1000\n",
      " 1/29 [>.............................] - ETA: 0s - loss: 0.5419 - accuracy: 0.7891\n",
      "Epoch 55: saving model to model/keypoint_classifier/keypoint_classifier.keras\n",
      "29/29 [==============================] - 0s 2ms/step - loss: 0.5989 - accuracy: 0.7643 - val_loss: 0.3097 - val_accuracy: 0.9462\n",
      "Epoch 56/1000\n",
      " 1/29 [>.............................] - ETA: 0s - loss: 0.6216 - accuracy: 0.7734\n",
      "Epoch 56: saving model to model/keypoint_classifier/keypoint_classifier.keras\n",
      "29/29 [==============================] - 0s 2ms/step - loss: 0.6057 - accuracy: 0.7687 - val_loss: 0.3118 - val_accuracy: 0.9470\n",
      "Epoch 57/1000\n",
      " 1/29 [>.............................] - ETA: 0s - loss: 0.7085 - accuracy: 0.7734\n",
      "Epoch 57: saving model to model/keypoint_classifier/keypoint_classifier.keras\n",
      "29/29 [==============================] - 0s 2ms/step - loss: 0.5735 - accuracy: 0.7792 - val_loss: 0.3026 - val_accuracy: 0.9536\n",
      "Epoch 58/1000\n",
      " 1/29 [>.............................] - ETA: 0s - loss: 0.7292 - accuracy: 0.6953\n",
      "Epoch 58: saving model to model/keypoint_classifier/keypoint_classifier.keras\n",
      "29/29 [==============================] - 0s 2ms/step - loss: 0.5825 - accuracy: 0.7828 - val_loss: 0.2952 - val_accuracy: 0.9520\n",
      "Epoch 59/1000\n",
      " 1/29 [>.............................] - ETA: 0s - loss: 0.6607 - accuracy: 0.7500\n",
      "Epoch 59: saving model to model/keypoint_classifier/keypoint_classifier.keras\n",
      "29/29 [==============================] - 0s 2ms/step - loss: 0.5840 - accuracy: 0.7742 - val_loss: 0.2950 - val_accuracy: 0.9478\n",
      "Epoch 60/1000\n",
      " 1/29 [>.............................] - ETA: 0s - loss: 0.5487 - accuracy: 0.8203\n",
      "Epoch 60: saving model to model/keypoint_classifier/keypoint_classifier.keras\n",
      "29/29 [==============================] - 0s 2ms/step - loss: 0.5874 - accuracy: 0.7737 - val_loss: 0.2958 - val_accuracy: 0.9445\n",
      "Epoch 61/1000\n",
      " 1/29 [>.............................] - ETA: 0s - loss: 0.6324 - accuracy: 0.8125\n",
      "Epoch 61: saving model to model/keypoint_classifier/keypoint_classifier.keras\n",
      "29/29 [==============================] - 0s 2ms/step - loss: 0.5945 - accuracy: 0.7762 - val_loss: 0.2906 - val_accuracy: 0.9495\n",
      "Epoch 62/1000\n",
      " 1/29 [>.............................] - ETA: 0s - loss: 0.6726 - accuracy: 0.7422\n",
      "Epoch 62: saving model to model/keypoint_classifier/keypoint_classifier.keras\n",
      "29/29 [==============================] - 0s 2ms/step - loss: 0.5739 - accuracy: 0.7875 - val_loss: 0.2937 - val_accuracy: 0.9495\n",
      "Epoch 63/1000\n",
      " 1/29 [>.............................] - ETA: 0s - loss: 0.6482 - accuracy: 0.7344\n",
      "Epoch 63: saving model to model/keypoint_classifier/keypoint_classifier.keras\n",
      "29/29 [==============================] - 0s 2ms/step - loss: 0.5674 - accuracy: 0.7844 - val_loss: 0.2895 - val_accuracy: 0.9495\n",
      "Epoch 64/1000\n",
      " 1/29 [>.............................] - ETA: 0s - loss: 0.5145 - accuracy: 0.8281\n",
      "Epoch 64: saving model to model/keypoint_classifier/keypoint_classifier.keras\n",
      "29/29 [==============================] - 0s 2ms/step - loss: 0.5638 - accuracy: 0.7891 - val_loss: 0.2836 - val_accuracy: 0.9478\n",
      "Epoch 65/1000\n",
      " 1/29 [>.............................] - ETA: 0s - loss: 0.4792 - accuracy: 0.8281\n",
      "Epoch 65: saving model to model/keypoint_classifier/keypoint_classifier.keras\n",
      "29/29 [==============================] - 0s 2ms/step - loss: 0.5605 - accuracy: 0.7894 - val_loss: 0.2758 - val_accuracy: 0.9478\n",
      "Epoch 66/1000\n",
      " 1/29 [>.............................] - ETA: 0s - loss: 0.5426 - accuracy: 0.7656\n",
      "Epoch 66: saving model to model/keypoint_classifier/keypoint_classifier.keras\n",
      "29/29 [==============================] - 0s 2ms/step - loss: 0.5649 - accuracy: 0.7897 - val_loss: 0.2726 - val_accuracy: 0.9487\n",
      "Epoch 67/1000\n",
      " 1/29 [>.............................] - ETA: 0s - loss: 0.6185 - accuracy: 0.7422\n",
      "Epoch 67: saving model to model/keypoint_classifier/keypoint_classifier.keras\n",
      "29/29 [==============================] - 0s 2ms/step - loss: 0.5649 - accuracy: 0.7858 - val_loss: 0.2727 - val_accuracy: 0.9561\n",
      "Epoch 68/1000\n",
      " 1/29 [>.............................] - ETA: 0s - loss: 0.4946 - accuracy: 0.7891\n",
      "Epoch 68: saving model to model/keypoint_classifier/keypoint_classifier.keras\n",
      "29/29 [==============================] - 0s 2ms/step - loss: 0.5629 - accuracy: 0.8002 - val_loss: 0.2799 - val_accuracy: 0.9462\n",
      "Epoch 69/1000\n",
      " 1/29 [>.............................] - ETA: 0s - loss: 0.5582 - accuracy: 0.7969\n",
      "Epoch 69: saving model to model/keypoint_classifier/keypoint_classifier.keras\n",
      "29/29 [==============================] - 0s 2ms/step - loss: 0.5639 - accuracy: 0.7957 - val_loss: 0.2710 - val_accuracy: 0.9503\n",
      "Epoch 70/1000\n",
      " 1/29 [>.............................] - ETA: 0s - loss: 0.5091 - accuracy: 0.8203\n",
      "Epoch 70: saving model to model/keypoint_classifier/keypoint_classifier.keras\n",
      "29/29 [==============================] - 0s 2ms/step - loss: 0.5558 - accuracy: 0.7913 - val_loss: 0.2698 - val_accuracy: 0.9512\n",
      "Epoch 71/1000\n",
      " 1/29 [>.............................] - ETA: 0s - loss: 0.4387 - accuracy: 0.8125\n",
      "Epoch 71: saving model to model/keypoint_classifier/keypoint_classifier.keras\n",
      "29/29 [==============================] - 0s 2ms/step - loss: 0.5730 - accuracy: 0.7803 - val_loss: 0.2726 - val_accuracy: 0.9503\n",
      "Epoch 72/1000\n",
      " 1/29 [>.............................] - ETA: 0s - loss: 0.6371 - accuracy: 0.7500\n",
      "Epoch 72: saving model to model/keypoint_classifier/keypoint_classifier.keras\n",
      "29/29 [==============================] - 0s 2ms/step - loss: 0.5714 - accuracy: 0.7883 - val_loss: 0.2728 - val_accuracy: 0.9495\n",
      "Epoch 73/1000\n",
      " 1/29 [>.............................] - ETA: 0s - loss: 0.5659 - accuracy: 0.8203\n",
      "Epoch 73: saving model to model/keypoint_classifier/keypoint_classifier.keras\n",
      "29/29 [==============================] - 0s 2ms/step - loss: 0.5500 - accuracy: 0.7980 - val_loss: 0.2702 - val_accuracy: 0.9487\n",
      "Epoch 74/1000\n",
      " 1/29 [>.............................] - ETA: 0s - loss: 0.5930 - accuracy: 0.7891\n",
      "Epoch 74: saving model to model/keypoint_classifier/keypoint_classifier.keras\n",
      "29/29 [==============================] - 0s 2ms/step - loss: 0.5455 - accuracy: 0.7977 - val_loss: 0.2635 - val_accuracy: 0.9495\n",
      "Epoch 75/1000\n",
      " 1/29 [>.............................] - ETA: 0s - loss: 0.4701 - accuracy: 0.8125\n",
      "Epoch 75: saving model to model/keypoint_classifier/keypoint_classifier.keras\n",
      "29/29 [==============================] - 0s 2ms/step - loss: 0.5370 - accuracy: 0.7955 - val_loss: 0.2562 - val_accuracy: 0.9536\n",
      "Epoch 76/1000\n",
      " 1/29 [>.............................] - ETA: 0s - loss: 0.6548 - accuracy: 0.7891\n",
      "Epoch 76: saving model to model/keypoint_classifier/keypoint_classifier.keras\n",
      "29/29 [==============================] - 0s 2ms/step - loss: 0.5345 - accuracy: 0.8018 - val_loss: 0.2575 - val_accuracy: 0.9462\n",
      "Epoch 77/1000\n",
      " 1/29 [>.............................] - ETA: 0s - loss: 0.6170 - accuracy: 0.7656\n",
      "Epoch 77: saving model to model/keypoint_classifier/keypoint_classifier.keras\n",
      "29/29 [==============================] - 0s 2ms/step - loss: 0.5550 - accuracy: 0.7977 - val_loss: 0.2683 - val_accuracy: 0.9437\n",
      "Epoch 78/1000\n",
      " 1/29 [>.............................] - ETA: 0s - loss: 0.4281 - accuracy: 0.8438\n",
      "Epoch 78: saving model to model/keypoint_classifier/keypoint_classifier.keras\n",
      "29/29 [==============================] - 0s 2ms/step - loss: 0.5312 - accuracy: 0.7991 - val_loss: 0.2605 - val_accuracy: 0.9462\n",
      "Epoch 79/1000\n",
      " 1/29 [>.............................] - ETA: 0s - loss: 0.5575 - accuracy: 0.8125\n",
      "Epoch 79: saving model to model/keypoint_classifier/keypoint_classifier.keras\n",
      "29/29 [==============================] - 0s 2ms/step - loss: 0.5658 - accuracy: 0.7891 - val_loss: 0.2579 - val_accuracy: 0.9520\n",
      "Epoch 80/1000\n",
      " 1/29 [>.............................] - ETA: 0s - loss: 0.5607 - accuracy: 0.8047\n",
      "Epoch 80: saving model to model/keypoint_classifier/keypoint_classifier.keras\n",
      "29/29 [==============================] - 0s 2ms/step - loss: 0.5416 - accuracy: 0.7955 - val_loss: 0.2611 - val_accuracy: 0.9429\n",
      "Epoch 81/1000\n",
      " 1/29 [>.............................] - ETA: 0s - loss: 0.4417 - accuracy: 0.8750\n",
      "Epoch 81: saving model to model/keypoint_classifier/keypoint_classifier.keras\n",
      "29/29 [==============================] - 0s 2ms/step - loss: 0.5462 - accuracy: 0.8040 - val_loss: 0.2582 - val_accuracy: 0.9503\n",
      "Epoch 82/1000\n",
      " 1/29 [>.............................] - ETA: 0s - loss: 0.5635 - accuracy: 0.8125\n",
      "Epoch 82: saving model to model/keypoint_classifier/keypoint_classifier.keras\n",
      "29/29 [==============================] - 0s 2ms/step - loss: 0.5521 - accuracy: 0.8035 - val_loss: 0.2649 - val_accuracy: 0.9454\n",
      "Epoch 83/1000\n",
      " 1/29 [>.............................] - ETA: 0s - loss: 0.5099 - accuracy: 0.8047\n",
      "Epoch 83: saving model to model/keypoint_classifier/keypoint_classifier.keras\n",
      "29/29 [==============================] - 0s 2ms/step - loss: 0.5255 - accuracy: 0.8038 - val_loss: 0.2610 - val_accuracy: 0.9462\n",
      "Epoch 84/1000\n",
      " 1/29 [>.............................] - ETA: 0s - loss: 0.5216 - accuracy: 0.8203\n",
      "Epoch 84: saving model to model/keypoint_classifier/keypoint_classifier.keras\n",
      "29/29 [==============================] - 0s 2ms/step - loss: 0.5210 - accuracy: 0.8065 - val_loss: 0.2529 - val_accuracy: 0.9478\n",
      "Epoch 85/1000\n",
      " 1/29 [>.............................] - ETA: 0s - loss: 0.4485 - accuracy: 0.8516\n",
      "Epoch 85: saving model to model/keypoint_classifier/keypoint_classifier.keras\n",
      "29/29 [==============================] - 0s 2ms/step - loss: 0.5118 - accuracy: 0.8120 - val_loss: 0.2555 - val_accuracy: 0.9478\n",
      "Epoch 86/1000\n",
      " 1/29 [>.............................] - ETA: 0s - loss: 0.5398 - accuracy: 0.7891\n",
      "Epoch 86: saving model to model/keypoint_classifier/keypoint_classifier.keras\n",
      "29/29 [==============================] - 0s 2ms/step - loss: 0.5249 - accuracy: 0.8093 - val_loss: 0.2494 - val_accuracy: 0.9470\n",
      "Epoch 87/1000\n",
      " 1/29 [>.............................] - ETA: 0s - loss: 0.5572 - accuracy: 0.7812\n",
      "Epoch 87: saving model to model/keypoint_classifier/keypoint_classifier.keras\n",
      "29/29 [==============================] - 0s 2ms/step - loss: 0.5253 - accuracy: 0.8076 - val_loss: 0.2518 - val_accuracy: 0.9454\n",
      "Epoch 88/1000\n",
      " 1/29 [>.............................] - ETA: 0s - loss: 0.5284 - accuracy: 0.8203\n",
      "Epoch 88: saving model to model/keypoint_classifier/keypoint_classifier.keras\n",
      "29/29 [==============================] - 0s 2ms/step - loss: 0.5191 - accuracy: 0.8004 - val_loss: 0.2420 - val_accuracy: 0.9512\n",
      "Epoch 89/1000\n",
      " 1/29 [>.............................] - ETA: 0s - loss: 0.5147 - accuracy: 0.8438\n",
      "Epoch 89: saving model to model/keypoint_classifier/keypoint_classifier.keras\n",
      "29/29 [==============================] - 0s 2ms/step - loss: 0.5272 - accuracy: 0.8131 - val_loss: 0.2525 - val_accuracy: 0.9470\n",
      "Epoch 90/1000\n",
      " 1/29 [>.............................] - ETA: 0s - loss: 0.5313 - accuracy: 0.8125\n",
      "Epoch 90: saving model to model/keypoint_classifier/keypoint_classifier.keras\n",
      "29/29 [==============================] - 0s 2ms/step - loss: 0.5184 - accuracy: 0.8151 - val_loss: 0.2429 - val_accuracy: 0.9454\n",
      "Epoch 91/1000\n",
      " 1/29 [>.............................] - ETA: 0s - loss: 0.5481 - accuracy: 0.7500\n",
      "Epoch 91: saving model to model/keypoint_classifier/keypoint_classifier.keras\n",
      "29/29 [==============================] - 0s 2ms/step - loss: 0.5141 - accuracy: 0.8065 - val_loss: 0.2426 - val_accuracy: 0.9445\n",
      "Epoch 92/1000\n",
      " 1/29 [>.............................] - ETA: 0s - loss: 0.5337 - accuracy: 0.8359\n",
      "Epoch 92: saving model to model/keypoint_classifier/keypoint_classifier.keras\n",
      "29/29 [==============================] - 0s 2ms/step - loss: 0.5298 - accuracy: 0.8040 - val_loss: 0.2355 - val_accuracy: 0.9536\n",
      "Epoch 93/1000\n",
      " 1/29 [>.............................] - ETA: 0s - loss: 0.5307 - accuracy: 0.8047\n",
      "Epoch 93: saving model to model/keypoint_classifier/keypoint_classifier.keras\n",
      "29/29 [==============================] - 0s 2ms/step - loss: 0.5523 - accuracy: 0.7944 - val_loss: 0.2534 - val_accuracy: 0.9470\n",
      "Epoch 94/1000\n",
      " 1/29 [>.............................] - ETA: 0s - loss: 0.5907 - accuracy: 0.8281\n",
      "Epoch 94: saving model to model/keypoint_classifier/keypoint_classifier.keras\n",
      "29/29 [==============================] - 0s 2ms/step - loss: 0.5273 - accuracy: 0.8134 - val_loss: 0.2394 - val_accuracy: 0.9503\n",
      "Epoch 95/1000\n",
      " 1/29 [>.............................] - ETA: 0s - loss: 0.5588 - accuracy: 0.7500\n",
      "Epoch 95: saving model to model/keypoint_classifier/keypoint_classifier.keras\n",
      "29/29 [==============================] - 0s 2ms/step - loss: 0.5267 - accuracy: 0.8129 - val_loss: 0.2427 - val_accuracy: 0.9495\n",
      "Epoch 96/1000\n",
      " 1/29 [>.............................] - ETA: 0s - loss: 0.5904 - accuracy: 0.8047\n",
      "Epoch 96: saving model to model/keypoint_classifier/keypoint_classifier.keras\n",
      "29/29 [==============================] - 0s 2ms/step - loss: 0.5105 - accuracy: 0.8225 - val_loss: 0.2444 - val_accuracy: 0.9462\n",
      "Epoch 97/1000\n",
      " 1/29 [>.............................] - ETA: 0s - loss: 0.3843 - accuracy: 0.8672\n",
      "Epoch 97: saving model to model/keypoint_classifier/keypoint_classifier.keras\n",
      "29/29 [==============================] - 0s 2ms/step - loss: 0.4905 - accuracy: 0.8286 - val_loss: 0.2385 - val_accuracy: 0.9512\n",
      "Epoch 98/1000\n",
      " 1/29 [>.............................] - ETA: 0s - loss: 0.4877 - accuracy: 0.8203\n",
      "Epoch 98: saving model to model/keypoint_classifier/keypoint_classifier.keras\n",
      "29/29 [==============================] - 0s 2ms/step - loss: 0.5171 - accuracy: 0.8118 - val_loss: 0.2417 - val_accuracy: 0.9520\n",
      "Epoch 99/1000\n",
      " 1/29 [>.............................] - ETA: 0s - loss: 0.5620 - accuracy: 0.7969\n",
      "Epoch 99: saving model to model/keypoint_classifier/keypoint_classifier.keras\n",
      "29/29 [==============================] - 0s 2ms/step - loss: 0.5028 - accuracy: 0.8189 - val_loss: 0.2393 - val_accuracy: 0.9478\n",
      "Epoch 100/1000\n",
      " 1/29 [>.............................] - ETA: 0s - loss: 0.5354 - accuracy: 0.8203\n",
      "Epoch 100: saving model to model/keypoint_classifier/keypoint_classifier.keras\n",
      "29/29 [==============================] - 0s 2ms/step - loss: 0.5286 - accuracy: 0.8076 - val_loss: 0.2405 - val_accuracy: 0.9503\n",
      "Epoch 101/1000\n",
      " 1/29 [>.............................] - ETA: 0s - loss: 0.5062 - accuracy: 0.8047\n",
      "Epoch 101: saving model to model/keypoint_classifier/keypoint_classifier.keras\n",
      "29/29 [==============================] - 0s 2ms/step - loss: 0.5301 - accuracy: 0.8060 - val_loss: 0.2435 - val_accuracy: 0.9478\n",
      "Epoch 102/1000\n",
      " 1/29 [>.............................] - ETA: 0s - loss: 0.5571 - accuracy: 0.7734\n",
      "Epoch 102: saving model to model/keypoint_classifier/keypoint_classifier.keras\n",
      "29/29 [==============================] - 0s 2ms/step - loss: 0.5303 - accuracy: 0.8165 - val_loss: 0.2420 - val_accuracy: 0.9495\n",
      "Epoch 103/1000\n",
      " 1/29 [>.............................] - ETA: 0s - loss: 0.5398 - accuracy: 0.8047\n",
      "Epoch 103: saving model to model/keypoint_classifier/keypoint_classifier.keras\n",
      "29/29 [==============================] - 0s 2ms/step - loss: 0.5223 - accuracy: 0.8162 - val_loss: 0.2429 - val_accuracy: 0.9478\n",
      "Epoch 104/1000\n",
      " 1/29 [>.............................] - ETA: 0s - loss: 0.4794 - accuracy: 0.8594\n",
      "Epoch 104: saving model to model/keypoint_classifier/keypoint_classifier.keras\n",
      "29/29 [==============================] - 0s 2ms/step - loss: 0.5131 - accuracy: 0.8181 - val_loss: 0.2446 - val_accuracy: 0.9462\n",
      "Epoch 105/1000\n",
      " 1/29 [>.............................] - ETA: 0s - loss: 0.5887 - accuracy: 0.7734\n",
      "Epoch 105: saving model to model/keypoint_classifier/keypoint_classifier.keras\n",
      "29/29 [==============================] - 0s 2ms/step - loss: 0.5088 - accuracy: 0.8187 - val_loss: 0.2399 - val_accuracy: 0.9462\n",
      "Epoch 106/1000\n",
      " 1/29 [>.............................] - ETA: 0s - loss: 0.3917 - accuracy: 0.8594\n",
      "Epoch 106: saving model to model/keypoint_classifier/keypoint_classifier.keras\n",
      "29/29 [==============================] - 0s 2ms/step - loss: 0.5019 - accuracy: 0.8178 - val_loss: 0.2366 - val_accuracy: 0.9470\n",
      "Epoch 107/1000\n",
      " 1/29 [>.............................] - ETA: 0s - loss: 0.5159 - accuracy: 0.8359\n",
      "Epoch 107: saving model to model/keypoint_classifier/keypoint_classifier.keras\n",
      "29/29 [==============================] - 0s 2ms/step - loss: 0.5281 - accuracy: 0.8068 - val_loss: 0.2320 - val_accuracy: 0.9520\n",
      "Epoch 108/1000\n",
      " 1/29 [>.............................] - ETA: 0s - loss: 0.5865 - accuracy: 0.7969\n",
      "Epoch 108: saving model to model/keypoint_classifier/keypoint_classifier.keras\n",
      "29/29 [==============================] - 0s 2ms/step - loss: 0.5011 - accuracy: 0.8187 - val_loss: 0.2300 - val_accuracy: 0.9528\n",
      "Epoch 109/1000\n",
      " 1/29 [>.............................] - ETA: 0s - loss: 0.4043 - accuracy: 0.8516\n",
      "Epoch 109: saving model to model/keypoint_classifier/keypoint_classifier.keras\n",
      "29/29 [==============================] - 0s 2ms/step - loss: 0.4973 - accuracy: 0.8206 - val_loss: 0.2268 - val_accuracy: 0.9536\n",
      "Epoch 110/1000\n",
      " 1/29 [>.............................] - ETA: 0s - loss: 0.5098 - accuracy: 0.8047\n",
      "Epoch 110: saving model to model/keypoint_classifier/keypoint_classifier.keras\n",
      "29/29 [==============================] - 0s 2ms/step - loss: 0.4978 - accuracy: 0.8184 - val_loss: 0.2374 - val_accuracy: 0.9512\n",
      "Epoch 111/1000\n",
      " 1/29 [>.............................] - ETA: 0s - loss: 0.5598 - accuracy: 0.8047\n",
      "Epoch 111: saving model to model/keypoint_classifier/keypoint_classifier.keras\n",
      "29/29 [==============================] - 0s 2ms/step - loss: 0.4971 - accuracy: 0.8256 - val_loss: 0.2396 - val_accuracy: 0.9503\n",
      "Epoch 112/1000\n",
      " 1/29 [>.............................] - ETA: 0s - loss: 0.4833 - accuracy: 0.8125\n",
      "Epoch 112: saving model to model/keypoint_classifier/keypoint_classifier.keras\n",
      "29/29 [==============================] - 0s 2ms/step - loss: 0.5038 - accuracy: 0.8153 - val_loss: 0.2387 - val_accuracy: 0.9470\n",
      "Epoch 113/1000\n",
      " 1/29 [>.............................] - ETA: 0s - loss: 0.5046 - accuracy: 0.8438\n",
      "Epoch 113: saving model to model/keypoint_classifier/keypoint_classifier.keras\n",
      "29/29 [==============================] - 0s 2ms/step - loss: 0.4891 - accuracy: 0.8275 - val_loss: 0.2399 - val_accuracy: 0.9495\n",
      "Epoch 114/1000\n",
      " 1/29 [>.............................] - ETA: 0s - loss: 0.4206 - accuracy: 0.8594\n",
      "Epoch 114: saving model to model/keypoint_classifier/keypoint_classifier.keras\n",
      "29/29 [==============================] - 0s 2ms/step - loss: 0.5002 - accuracy: 0.8209 - val_loss: 0.2372 - val_accuracy: 0.9503\n",
      "Epoch 115/1000\n",
      " 1/29 [>.............................] - ETA: 0s - loss: 0.6620 - accuracy: 0.7344\n",
      "Epoch 115: saving model to model/keypoint_classifier/keypoint_classifier.keras\n",
      "29/29 [==============================] - 0s 2ms/step - loss: 0.4953 - accuracy: 0.8225 - val_loss: 0.2313 - val_accuracy: 0.9512\n",
      "Epoch 116/1000\n",
      " 1/29 [>.............................] - ETA: 0s - loss: 0.3984 - accuracy: 0.8594\n",
      "Epoch 116: saving model to model/keypoint_classifier/keypoint_classifier.keras\n",
      "29/29 [==============================] - 0s 2ms/step - loss: 0.4951 - accuracy: 0.8245 - val_loss: 0.2315 - val_accuracy: 0.9487\n",
      "Epoch 117/1000\n",
      " 1/29 [>.............................] - ETA: 0s - loss: 0.4003 - accuracy: 0.8516\n",
      "Epoch 117: saving model to model/keypoint_classifier/keypoint_classifier.keras\n",
      "29/29 [==============================] - 0s 2ms/step - loss: 0.5145 - accuracy: 0.8131 - val_loss: 0.2398 - val_accuracy: 0.9478\n",
      "Epoch 118/1000\n",
      " 1/29 [>.............................] - ETA: 0s - loss: 0.4687 - accuracy: 0.8516\n",
      "Epoch 118: saving model to model/keypoint_classifier/keypoint_classifier.keras\n",
      "29/29 [==============================] - 0s 2ms/step - loss: 0.5208 - accuracy: 0.8148 - val_loss: 0.2387 - val_accuracy: 0.9487\n",
      "Epoch 119/1000\n",
      " 1/29 [>.............................] - ETA: 0s - loss: 0.3547 - accuracy: 0.8906\n",
      "Epoch 119: saving model to model/keypoint_classifier/keypoint_classifier.keras\n",
      "29/29 [==============================] - 0s 2ms/step - loss: 0.4791 - accuracy: 0.8256 - val_loss: 0.2280 - val_accuracy: 0.9495\n",
      "Epoch 120/1000\n",
      " 1/29 [>.............................] - ETA: 0s - loss: 0.5119 - accuracy: 0.8047\n",
      "Epoch 120: saving model to model/keypoint_classifier/keypoint_classifier.keras\n",
      "29/29 [==============================] - 0s 2ms/step - loss: 0.5056 - accuracy: 0.8200 - val_loss: 0.2325 - val_accuracy: 0.9495\n",
      "Epoch 121/1000\n",
      " 1/29 [>.............................] - ETA: 0s - loss: 0.4136 - accuracy: 0.8672\n",
      "Epoch 121: saving model to model/keypoint_classifier/keypoint_classifier.keras\n",
      "29/29 [==============================] - 0s 2ms/step - loss: 0.4760 - accuracy: 0.8291 - val_loss: 0.2262 - val_accuracy: 0.9545\n",
      "Epoch 122/1000\n",
      " 1/29 [>.............................] - ETA: 0s - loss: 0.4090 - accuracy: 0.8828\n",
      "Epoch 122: saving model to model/keypoint_classifier/keypoint_classifier.keras\n",
      "29/29 [==============================] - 0s 2ms/step - loss: 0.5007 - accuracy: 0.8234 - val_loss: 0.2368 - val_accuracy: 0.9470\n",
      "Epoch 123/1000\n",
      " 1/29 [>.............................] - ETA: 0s - loss: 0.4445 - accuracy: 0.8516\n",
      "Epoch 123: saving model to model/keypoint_classifier/keypoint_classifier.keras\n",
      "29/29 [==============================] - 0s 2ms/step - loss: 0.4969 - accuracy: 0.8189 - val_loss: 0.2321 - val_accuracy: 0.9520\n",
      "Epoch 124/1000\n",
      " 1/29 [>.............................] - ETA: 0s - loss: 0.4723 - accuracy: 0.8125\n",
      "Epoch 124: saving model to model/keypoint_classifier/keypoint_classifier.keras\n",
      "29/29 [==============================] - 0s 2ms/step - loss: 0.5053 - accuracy: 0.8200 - val_loss: 0.2469 - val_accuracy: 0.9462\n",
      "Epoch 125/1000\n",
      " 1/29 [>.............................] - ETA: 0s - loss: 0.5285 - accuracy: 0.8047\n",
      "Epoch 125: saving model to model/keypoint_classifier/keypoint_classifier.keras\n",
      "29/29 [==============================] - 0s 2ms/step - loss: 0.4997 - accuracy: 0.8184 - val_loss: 0.2255 - val_accuracy: 0.9545\n",
      "Epoch 126/1000\n",
      " 1/29 [>.............................] - ETA: 0s - loss: 0.5303 - accuracy: 0.7969\n",
      "Epoch 126: saving model to model/keypoint_classifier/keypoint_classifier.keras\n",
      "29/29 [==============================] - 0s 2ms/step - loss: 0.4839 - accuracy: 0.8234 - val_loss: 0.2436 - val_accuracy: 0.9478\n",
      "Epoch 127/1000\n",
      " 1/29 [>.............................] - ETA: 0s - loss: 0.4923 - accuracy: 0.8047\n",
      "Epoch 127: saving model to model/keypoint_classifier/keypoint_classifier.keras\n",
      "29/29 [==============================] - 0s 2ms/step - loss: 0.5033 - accuracy: 0.8198 - val_loss: 0.2343 - val_accuracy: 0.9503\n",
      "Epoch 128/1000\n",
      " 1/29 [>.............................] - ETA: 0s - loss: 0.5403 - accuracy: 0.8203\n",
      "Epoch 128: saving model to model/keypoint_classifier/keypoint_classifier.keras\n",
      "29/29 [==============================] - 0s 2ms/step - loss: 0.4932 - accuracy: 0.8184 - val_loss: 0.2313 - val_accuracy: 0.9528\n",
      "Epoch 129/1000\n",
      " 1/29 [>.............................] - ETA: 0s - loss: 0.5390 - accuracy: 0.8359\n",
      "Epoch 129: saving model to model/keypoint_classifier/keypoint_classifier.keras\n",
      "29/29 [==============================] - 0s 2ms/step - loss: 0.4767 - accuracy: 0.8327 - val_loss: 0.2291 - val_accuracy: 0.9470\n",
      "Epoch 130/1000\n",
      " 1/29 [>.............................] - ETA: 0s - loss: 0.5080 - accuracy: 0.8281\n",
      "Epoch 130: saving model to model/keypoint_classifier/keypoint_classifier.keras\n",
      "29/29 [==============================] - 0s 2ms/step - loss: 0.4800 - accuracy: 0.8280 - val_loss: 0.2337 - val_accuracy: 0.9470\n",
      "Epoch 131/1000\n",
      " 1/29 [>.............................] - ETA: 0s - loss: 0.4585 - accuracy: 0.8594\n",
      "Epoch 131: saving model to model/keypoint_classifier/keypoint_classifier.keras\n",
      "29/29 [==============================] - 0s 2ms/step - loss: 0.4766 - accuracy: 0.8303 - val_loss: 0.2267 - val_accuracy: 0.9503\n",
      "Epoch 132/1000\n",
      " 1/29 [>.............................] - ETA: 0s - loss: 0.5398 - accuracy: 0.7969\n",
      "Epoch 132: saving model to model/keypoint_classifier/keypoint_classifier.keras\n",
      "29/29 [==============================] - 0s 2ms/step - loss: 0.5051 - accuracy: 0.8220 - val_loss: 0.2275 - val_accuracy: 0.9503\n",
      "Epoch 133/1000\n",
      " 1/29 [>.............................] - ETA: 0s - loss: 0.4895 - accuracy: 0.8359\n",
      "Epoch 133: saving model to model/keypoint_classifier/keypoint_classifier.keras\n",
      "29/29 [==============================] - 0s 2ms/step - loss: 0.4885 - accuracy: 0.8239 - val_loss: 0.2282 - val_accuracy: 0.9487\n",
      "Epoch 134/1000\n",
      " 1/29 [>.............................] - ETA: 0s - loss: 0.3919 - accuracy: 0.8438\n",
      "Epoch 134: saving model to model/keypoint_classifier/keypoint_classifier.keras\n",
      "29/29 [==============================] - 0s 2ms/step - loss: 0.4790 - accuracy: 0.8300 - val_loss: 0.2204 - val_accuracy: 0.9512\n",
      "Epoch 135/1000\n",
      " 1/29 [>.............................] - ETA: 0s - loss: 0.4772 - accuracy: 0.8125\n",
      "Epoch 135: saving model to model/keypoint_classifier/keypoint_classifier.keras\n",
      "29/29 [==============================] - 0s 2ms/step - loss: 0.4749 - accuracy: 0.8239 - val_loss: 0.2170 - val_accuracy: 0.9536\n",
      "Epoch 136/1000\n",
      " 1/29 [>.............................] - ETA: 0s - loss: 0.4926 - accuracy: 0.8203\n",
      "Epoch 136: saving model to model/keypoint_classifier/keypoint_classifier.keras\n",
      "29/29 [==============================] - 0s 2ms/step - loss: 0.4823 - accuracy: 0.8303 - val_loss: 0.2190 - val_accuracy: 0.9487\n",
      "Epoch 137/1000\n",
      " 1/29 [>.............................] - ETA: 0s - loss: 0.4940 - accuracy: 0.8125\n",
      "Epoch 137: saving model to model/keypoint_classifier/keypoint_classifier.keras\n",
      "29/29 [==============================] - 0s 2ms/step - loss: 0.4711 - accuracy: 0.8256 - val_loss: 0.2239 - val_accuracy: 0.9520\n",
      "Epoch 138/1000\n",
      " 1/29 [>.............................] - ETA: 0s - loss: 0.4363 - accuracy: 0.8438\n",
      "Epoch 138: saving model to model/keypoint_classifier/keypoint_classifier.keras\n",
      "29/29 [==============================] - 0s 2ms/step - loss: 0.4639 - accuracy: 0.8333 - val_loss: 0.2185 - val_accuracy: 0.9536\n",
      "Epoch 139/1000\n",
      " 1/29 [>.............................] - ETA: 0s - loss: 0.3748 - accuracy: 0.8750\n",
      "Epoch 139: saving model to model/keypoint_classifier/keypoint_classifier.keras\n",
      "29/29 [==============================] - 0s 2ms/step - loss: 0.4636 - accuracy: 0.8327 - val_loss: 0.2216 - val_accuracy: 0.9520\n",
      "Epoch 140/1000\n",
      " 1/29 [>.............................] - ETA: 0s - loss: 0.4155 - accuracy: 0.8281\n",
      "Epoch 140: saving model to model/keypoint_classifier/keypoint_classifier.keras\n",
      "29/29 [==============================] - 0s 2ms/step - loss: 0.4586 - accuracy: 0.8421 - val_loss: 0.2180 - val_accuracy: 0.9512\n",
      "Epoch 141/1000\n",
      " 1/29 [>.............................] - ETA: 0s - loss: 0.4315 - accuracy: 0.8438\n",
      "Epoch 141: saving model to model/keypoint_classifier/keypoint_classifier.keras\n",
      "29/29 [==============================] - 0s 2ms/step - loss: 0.4695 - accuracy: 0.8327 - val_loss: 0.2236 - val_accuracy: 0.9520\n",
      "Epoch 142/1000\n",
      " 1/29 [>.............................] - ETA: 0s - loss: 0.5073 - accuracy: 0.8203\n",
      "Epoch 142: saving model to model/keypoint_classifier/keypoint_classifier.keras\n",
      "29/29 [==============================] - 0s 2ms/step - loss: 0.4621 - accuracy: 0.8383 - val_loss: 0.2344 - val_accuracy: 0.9478\n",
      "Epoch 143/1000\n",
      " 1/29 [>.............................] - ETA: 0s - loss: 0.4552 - accuracy: 0.8516\n",
      "Epoch 143: saving model to model/keypoint_classifier/keypoint_classifier.keras\n",
      "29/29 [==============================] - 0s 2ms/step - loss: 0.4549 - accuracy: 0.8407 - val_loss: 0.2213 - val_accuracy: 0.9512\n",
      "Epoch 144/1000\n",
      " 1/29 [>.............................] - ETA: 0s - loss: 0.4496 - accuracy: 0.8438\n",
      "Epoch 144: saving model to model/keypoint_classifier/keypoint_classifier.keras\n",
      "29/29 [==============================] - 0s 2ms/step - loss: 0.4728 - accuracy: 0.8314 - val_loss: 0.2237 - val_accuracy: 0.9487\n",
      "Epoch 145/1000\n",
      " 1/29 [>.............................] - ETA: 0s - loss: 0.3157 - accuracy: 0.9297\n",
      "Epoch 145: saving model to model/keypoint_classifier/keypoint_classifier.keras\n",
      "29/29 [==============================] - 0s 2ms/step - loss: 0.4846 - accuracy: 0.8239 - val_loss: 0.2258 - val_accuracy: 0.9503\n",
      "Epoch 146/1000\n",
      " 1/29 [>.............................] - ETA: 0s - loss: 0.5330 - accuracy: 0.7969\n",
      "Epoch 146: saving model to model/keypoint_classifier/keypoint_classifier.keras\n",
      "29/29 [==============================] - 0s 2ms/step - loss: 0.4653 - accuracy: 0.8374 - val_loss: 0.2148 - val_accuracy: 0.9570\n",
      "Epoch 147/1000\n",
      " 1/29 [>.............................] - ETA: 0s - loss: 0.4523 - accuracy: 0.8125\n",
      "Epoch 147: saving model to model/keypoint_classifier/keypoint_classifier.keras\n",
      "29/29 [==============================] - 0s 2ms/step - loss: 0.4696 - accuracy: 0.8314 - val_loss: 0.2223 - val_accuracy: 0.9536\n",
      "Epoch 148/1000\n",
      " 1/29 [>.............................] - ETA: 0s - loss: 0.5650 - accuracy: 0.7734\n",
      "Epoch 148: saving model to model/keypoint_classifier/keypoint_classifier.keras\n",
      "29/29 [==============================] - 0s 2ms/step - loss: 0.4745 - accuracy: 0.8291 - val_loss: 0.2285 - val_accuracy: 0.9495\n",
      "Epoch 149/1000\n",
      " 1/29 [>.............................] - ETA: 0s - loss: 0.4922 - accuracy: 0.8047\n",
      "Epoch 149: saving model to model/keypoint_classifier/keypoint_classifier.keras\n",
      "29/29 [==============================] - 0s 2ms/step - loss: 0.4646 - accuracy: 0.8380 - val_loss: 0.2260 - val_accuracy: 0.9462\n",
      "Epoch 150/1000\n",
      " 1/29 [>.............................] - ETA: 0s - loss: 0.5512 - accuracy: 0.7656\n",
      "Epoch 150: saving model to model/keypoint_classifier/keypoint_classifier.keras\n",
      "29/29 [==============================] - 0s 2ms/step - loss: 0.4742 - accuracy: 0.8319 - val_loss: 0.2303 - val_accuracy: 0.9495\n",
      "Epoch 151/1000\n",
      " 1/29 [>.............................] - ETA: 0s - loss: 0.4316 - accuracy: 0.8516\n",
      "Epoch 151: saving model to model/keypoint_classifier/keypoint_classifier.keras\n",
      "29/29 [==============================] - 0s 2ms/step - loss: 0.4677 - accuracy: 0.8336 - val_loss: 0.2289 - val_accuracy: 0.9495\n",
      "Epoch 152/1000\n",
      " 1/29 [>.............................] - ETA: 0s - loss: 0.4267 - accuracy: 0.8594\n",
      "Epoch 152: saving model to model/keypoint_classifier/keypoint_classifier.keras\n",
      "29/29 [==============================] - 0s 2ms/step - loss: 0.4620 - accuracy: 0.8349 - val_loss: 0.2354 - val_accuracy: 0.9487\n",
      "Epoch 153/1000\n",
      " 1/29 [>.............................] - ETA: 0s - loss: 0.4282 - accuracy: 0.8516\n",
      "Epoch 153: saving model to model/keypoint_classifier/keypoint_classifier.keras\n",
      "29/29 [==============================] - 0s 2ms/step - loss: 0.4614 - accuracy: 0.8388 - val_loss: 0.2275 - val_accuracy: 0.9512\n",
      "Epoch 154/1000\n",
      " 1/29 [>.............................] - ETA: 0s - loss: 0.4328 - accuracy: 0.8516\n",
      "Epoch 154: saving model to model/keypoint_classifier/keypoint_classifier.keras\n",
      "29/29 [==============================] - 0s 2ms/step - loss: 0.4699 - accuracy: 0.8336 - val_loss: 0.2314 - val_accuracy: 0.9478\n",
      "Epoch 155/1000\n",
      " 1/29 [>.............................] - ETA: 0s - loss: 0.4522 - accuracy: 0.7969\n",
      "Epoch 155: saving model to model/keypoint_classifier/keypoint_classifier.keras\n",
      "29/29 [==============================] - 0s 2ms/step - loss: 0.4550 - accuracy: 0.8341 - val_loss: 0.2295 - val_accuracy: 0.9495\n",
      "Epoch 156/1000\n",
      " 1/29 [>.............................] - ETA: 0s - loss: 0.4574 - accuracy: 0.8438\n",
      "Epoch 156: saving model to model/keypoint_classifier/keypoint_classifier.keras\n",
      "29/29 [==============================] - 0s 2ms/step - loss: 0.4754 - accuracy: 0.8247 - val_loss: 0.2230 - val_accuracy: 0.9503\n",
      "Epoch 157/1000\n",
      " 1/29 [>.............................] - ETA: 0s - loss: 0.3910 - accuracy: 0.8594\n",
      "Epoch 157: saving model to model/keypoint_classifier/keypoint_classifier.keras\n",
      "29/29 [==============================] - 0s 2ms/step - loss: 0.4747 - accuracy: 0.8347 - val_loss: 0.2372 - val_accuracy: 0.9503\n",
      "Epoch 158/1000\n",
      " 1/29 [>.............................] - ETA: 0s - loss: 0.4173 - accuracy: 0.8438\n",
      "Epoch 158: saving model to model/keypoint_classifier/keypoint_classifier.keras\n",
      "29/29 [==============================] - 0s 2ms/step - loss: 0.4931 - accuracy: 0.8203 - val_loss: 0.2311 - val_accuracy: 0.9495\n",
      "Epoch 159/1000\n",
      " 1/29 [>.............................] - ETA: 0s - loss: 0.3532 - accuracy: 0.8594\n",
      "Epoch 159: saving model to model/keypoint_classifier/keypoint_classifier.keras\n",
      "29/29 [==============================] - 0s 2ms/step - loss: 0.4688 - accuracy: 0.8294 - val_loss: 0.2204 - val_accuracy: 0.9553\n",
      "Epoch 160/1000\n",
      " 1/29 [>.............................] - ETA: 0s - loss: 0.6048 - accuracy: 0.8047\n",
      "Epoch 160: saving model to model/keypoint_classifier/keypoint_classifier.keras\n",
      "29/29 [==============================] - 0s 2ms/step - loss: 0.4687 - accuracy: 0.8272 - val_loss: 0.2243 - val_accuracy: 0.9553\n",
      "Epoch 161/1000\n",
      " 1/29 [>.............................] - ETA: 0s - loss: 0.4590 - accuracy: 0.8516\n",
      "Epoch 161: saving model to model/keypoint_classifier/keypoint_classifier.keras\n",
      "29/29 [==============================] - 0s 2ms/step - loss: 0.4649 - accuracy: 0.8272 - val_loss: 0.2230 - val_accuracy: 0.9520\n",
      "Epoch 162/1000\n",
      " 1/29 [>.............................] - ETA: 0s - loss: 0.4430 - accuracy: 0.8203\n",
      "Epoch 162: saving model to model/keypoint_classifier/keypoint_classifier.keras\n",
      "29/29 [==============================] - 0s 2ms/step - loss: 0.4457 - accuracy: 0.8372 - val_loss: 0.2315 - val_accuracy: 0.9512\n",
      "Epoch 163/1000\n",
      " 1/29 [>.............................] - ETA: 0s - loss: 0.4424 - accuracy: 0.8438\n",
      "Epoch 163: saving model to model/keypoint_classifier/keypoint_classifier.keras\n",
      "29/29 [==============================] - 0s 2ms/step - loss: 0.4557 - accuracy: 0.8394 - val_loss: 0.2226 - val_accuracy: 0.9545\n",
      "Epoch 164/1000\n",
      " 1/29 [>.............................] - ETA: 0s - loss: 0.3484 - accuracy: 0.8750\n",
      "Epoch 164: saving model to model/keypoint_classifier/keypoint_classifier.keras\n",
      "29/29 [==============================] - 0s 2ms/step - loss: 0.4353 - accuracy: 0.8471 - val_loss: 0.2159 - val_accuracy: 0.9487\n",
      "Epoch 165/1000\n",
      " 1/29 [>.............................] - ETA: 0s - loss: 0.3507 - accuracy: 0.8984\n",
      "Epoch 165: saving model to model/keypoint_classifier/keypoint_classifier.keras\n",
      "29/29 [==============================] - 0s 2ms/step - loss: 0.4534 - accuracy: 0.8363 - val_loss: 0.2208 - val_accuracy: 0.9528\n",
      "Epoch 166/1000\n",
      " 1/29 [>.............................] - ETA: 0s - loss: 0.4878 - accuracy: 0.7891\n",
      "Epoch 166: saving model to model/keypoint_classifier/keypoint_classifier.keras\n",
      "29/29 [==============================] - 0s 2ms/step - loss: 0.4507 - accuracy: 0.8399 - val_loss: 0.2206 - val_accuracy: 0.9520\n",
      "Epoch 166: early stopping\n"
     ]
    },
    {
     "data": {
      "text/plain": [
       "<keras.src.callbacks.History at 0x29320f810>"
      ]
     },
     "execution_count": 12,
     "metadata": {},
     "output_type": "execute_result"
    }
   ],
   "source": [
    "model.fit(\n",
    "    X_train,\n",
    "    y_train,\n",
    "    epochs=1000,\n",
    "    batch_size=128,\n",
    "    validation_data=(X_test, y_test),\n",
    "    callbacks=[cp_callback, es_callback]\n",
    ")"
   ]
  },
  {
   "cell_type": "code",
   "execution_count": 13,
   "metadata": {
    "colab": {
     "base_uri": "https://localhost:8080/"
    },
    "id": "pxvb2Y299hE3",
    "outputId": "59eb3185-2e37-4b9e-bc9d-ab1b8ac29b7f"
   },
   "outputs": [
    {
     "name": "stdout",
     "output_type": "stream",
     "text": [
      "10/10 [==============================] - 0s 766us/step - loss: 0.2206 - accuracy: 0.9520\n"
     ]
    }
   ],
   "source": [
    "# Model evaluation\n",
    "val_loss, val_acc = model.evaluate(X_test, y_test, batch_size=128)"
   ]
  },
  {
   "cell_type": "code",
   "execution_count": 14,
   "metadata": {
    "id": "RBkmDeUW9hE4"
   },
   "outputs": [],
   "source": [
    "# Loading the saved model\n",
    "model = tf.keras.models.load_model(model_save_path)"
   ]
  },
  {
   "cell_type": "code",
   "execution_count": 15,
   "metadata": {
    "colab": {
     "base_uri": "https://localhost:8080/"
    },
    "id": "tFz9Tb0I9hE4",
    "outputId": "1c3b3528-54ae-4ee2-ab04-77429211cbef"
   },
   "outputs": [
    {
     "name": "stdout",
     "output_type": "stream",
     "text": [
      "1/1 [==============================] - 0s 50ms/step\n",
      "[9.6080863e-01 3.3190347e-02 3.3795505e-03 9.5352380e-06 2.6119389e-03]\n",
      "0\n"
     ]
    }
   ],
   "source": [
    "# Inference test\n",
    "predict_result = model.predict(np.array([X_test[0]]))\n",
    "print(np.squeeze(predict_result))\n",
    "print(np.argmax(np.squeeze(predict_result)))"
   ]
  },
  {
   "cell_type": "markdown",
   "metadata": {
    "id": "S3U4yNWx9hE4"
   },
   "source": [
    "# Confusion matrix"
   ]
  },
  {
   "cell_type": "code",
   "execution_count": 16,
   "metadata": {
    "colab": {
     "base_uri": "https://localhost:8080/",
     "height": 582
    },
    "id": "AP1V6SCk9hE5",
    "outputId": "08e41a80-7a4a-4619-8125-ecc371368d19"
   },
   "outputs": [
    {
     "name": "stdout",
     "output_type": "stream",
     "text": [
      "38/38 [==============================] - 0s 476us/step\n"
     ]
    },
    {
     "data": {
      "image/png": "[encoded data removed]",
      "text/plain": [
       "<Figure size 700x600 with 2 Axes>"
      ]
     },
     "metadata": {},
     "output_type": "display_data"
    },
    {
     "name": "stdout",
     "output_type": "stream",
     "text": [
      "Classification Report\n",
      "              precision    recall  f1-score   support\n",
      "\n",
      "           0       0.98      1.00      0.99       406\n",
      "           1       0.97      0.90      0.93       384\n",
      "           2       0.91      0.98      0.94       329\n",
      "           3       0.92      0.97      0.94        78\n",
      "           4       0.00      0.00      0.00        11\n",
      "\n",
      "    accuracy                           0.95      1208\n",
      "   macro avg       0.75      0.77      0.76      1208\n",
      "weighted avg       0.94      0.95      0.95      1208\n",
      "\n"
     ]
    },
    {
     "name": "stderr",
     "output_type": "stream",
     "text": [
      "/Library/Frameworks/Python.framework/Versions/3.11/lib/python3.11/site-packages/sklearn/metrics/_classification.py:1497: UndefinedMetricWarning: Precision is ill-defined and being set to 0.0 in labels with no predicted samples. Use `zero_division` parameter to control this behavior.\n",
      "  _warn_prf(average, modifier, f\"{metric.capitalize()} is\", len(result))\n",
      "/Library/Frameworks/Python.framework/Versions/3.11/lib/python3.11/site-packages/sklearn/metrics/_classification.py:1497: UndefinedMetricWarning: Precision is ill-defined and being set to 0.0 in labels with no predicted samples. Use `zero_division` parameter to control this behavior.\n",
      "  _warn_prf(average, modifier, f\"{metric.capitalize()} is\", len(result))\n",
      "/Library/Frameworks/Python.framework/Versions/3.11/lib/python3.11/site-packages/sklearn/metrics/_classification.py:1497: UndefinedMetricWarning: Precision is ill-defined and being set to 0.0 in labels with no predicted samples. Use `zero_division` parameter to control this behavior.\n",
      "  _warn_prf(average, modifier, f\"{metric.capitalize()} is\", len(result))\n"
     ]
    }
   ],
   "source": [
    "import pandas as pd\n",
    "import seaborn as sns\n",
    "import matplotlib.pyplot as plt\n",
    "from sklearn.metrics import confusion_matrix, classification_report\n",
    "\n",
    "def print_confusion_matrix(y_true, y_pred, report=True):\n",
    "    labels = sorted(list(set(y_true)))\n",
    "    cmx_data = confusion_matrix(y_true, y_pred, labels=labels)\n",
    "    \n",
    "    df_cmx = pd.DataFrame(cmx_data, index=labels, columns=labels)\n",
    " \n",
    "    fig, ax = plt.subplots(figsize=(7, 6))\n",
    "    sns.heatmap(df_cmx, annot=True, fmt='g' ,square=False)\n",
    "    ax.set_ylim(len(set(y_true)), 0)\n",
    "    plt.show()\n",
    "    \n",
    "    if report:\n",
    "        print('Classification Report')\n",
    "        print(classification_report(y_test, y_pred))\n",
    "\n",
    "Y_pred = model.predict(X_test)\n",
    "y_pred = np.argmax(Y_pred, axis=1)\n",
    "\n",
    "print_confusion_matrix(y_test, y_pred)"
   ]
  },
  {
   "cell_type": "markdown",
   "metadata": {
    "id": "FNP6aqzc9hE5"
   },
   "source": [
    "# Convert to model for Tensorflow-Lite"
   ]
  },
  {
   "cell_type": "code",
   "execution_count": 17,
   "metadata": {
    "id": "ODjnYyld9hE6"
   },
   "outputs": [],
   "source": [
    "# Save as a model dedicated to inference\n",
    "model.save(model_save_path)"
   ]
  },
  {
   "cell_type": "code",
   "execution_count": 18,
   "metadata": {
    "colab": {
     "base_uri": "https://localhost:8080/"
    },
    "id": "zRfuK8Y59hE6",
    "outputId": "a4ca585c-b5d5-4244-8291-8674063209bb"
   },
   "outputs": [
    {
     "name": "stdout",
     "output_type": "stream",
     "text": [
      "INFO:tensorflow:Assets written to: /var/folders/b8/vkvzb0nd3mq4q15ss9ph1pv80000gp/T/tmpk1ma8jf7/assets\n"
     ]
    },
    {
     "name": "stderr",
     "output_type": "stream",
     "text": [
      "INFO:tensorflow:Assets written to: /var/folders/b8/vkvzb0nd3mq4q15ss9ph1pv80000gp/T/tmpk1ma8jf7/assets\n",
      "2024-02-06 18:50:16.580072: W tensorflow/compiler/mlir/lite/python/tf_tfl_flatbuffer_helpers.cc:378] Ignored output_format.\n",
      "2024-02-06 18:50:16.580086: W tensorflow/compiler/mlir/lite/python/tf_tfl_flatbuffer_helpers.cc:381] Ignored drop_control_dependency.\n",
      "2024-02-06 18:50:16.580337: I tensorflow/cc/saved_model/reader.cc:83] Reading SavedModel from: /var/folders/b8/vkvzb0nd3mq4q15ss9ph1pv80000gp/T/tmpk1ma8jf7\n",
      "2024-02-06 18:50:16.580961: I tensorflow/cc/saved_model/reader.cc:51] Reading meta graph with tags { serve }\n",
      "2024-02-06 18:50:16.580967: I tensorflow/cc/saved_model/reader.cc:146] Reading SavedModel debug info (if present) from: /var/folders/b8/vkvzb0nd3mq4q15ss9ph1pv80000gp/T/tmpk1ma8jf7\n",
      "2024-02-06 18:50:16.582100: I tensorflow/compiler/mlir/mlir_graph_optimization_pass.cc:388] MLIR V1 optimization pass is not enabled\n",
      "2024-02-06 18:50:16.582642: I tensorflow/cc/saved_model/loader.cc:233] Restoring SavedModel bundle.\n",
      "2024-02-06 18:50:16.596727: I tensorflow/cc/saved_model/loader.cc:217] Running initialization op on SavedModel bundle at path: /var/folders/b8/vkvzb0nd3mq4q15ss9ph1pv80000gp/T/tmpk1ma8jf7\n",
      "2024-02-06 18:50:16.602231: I tensorflow/cc/saved_model/loader.cc:316] SavedModel load for tags { serve }; Status: success: OK. Took 21895 microseconds.\n",
      "2024-02-06 18:50:16.610935: I tensorflow/compiler/mlir/tensorflow/utils/dump_mlir_util.cc:269] disabling MLIR crash reproducer, set env var `MLIR_CRASH_REPRODUCER_DIRECTORY` to enable.\n",
      "Summary on the non-converted ops:\n",
      "---------------------------------\n",
      " * Accepted dialects: tfl, builtin, func\n",
      " * Non-Converted Ops: 6, Total Ops 13, % non-converted = 46.15 %\n",
      " * 6 ARITH ops\n",
      "\n",
      "- arith.constant:    6 occurrences  (f32: 6)\n",
      "\n",
      "\n",
      "\n",
      "  (f32: 3)\n",
      "  (f32: 1)\n"
     ]
    },
    {
     "data": {
      "text/plain": [
       "6588"
      ]
     },
     "execution_count": 18,
     "metadata": {},
     "output_type": "execute_result"
    }
   ],
   "source": [
    "# Transform model (quantization)\n",
    "\n",
    "converter = tf.lite.TFLiteConverter.from_keras_model(model)\n",
    "converter.optimizations = [tf.lite.Optimize.DEFAULT]\n",
    "tflite_quantized_model = converter.convert()\n",
    "\n",
    "open(tflite_save_path, 'wb').write(tflite_quantized_model)"
   ]
  },
  {
   "cell_type": "markdown",
   "metadata": {
    "id": "CHBPBXdx9hE6"
   },
   "source": [
    "# Inference test"
   ]
  },
  {
   "cell_type": "code",
   "execution_count": 19,
   "metadata": {
    "id": "mGAzLocO9hE7"
   },
   "outputs": [
    {
     "name": "stderr",
     "output_type": "stream",
     "text": [
      "INFO: Created TensorFlow Lite XNNPACK delegate for CPU.\n"
     ]
    }
   ],
   "source": [
    "interpreter = tf.lite.Interpreter(model_path=tflite_save_path)\n",
    "interpreter.allocate_tensors()"
   ]
  },
  {
   "cell_type": "code",
   "execution_count": 20,
   "metadata": {
    "id": "oQuDK8YS9hE7"
   },
   "outputs": [],
   "source": [
    "# Get I / O tensor\n",
    "input_details = interpreter.get_input_details()\n",
    "output_details = interpreter.get_output_details()"
   ]
  },
  {
   "cell_type": "code",
   "execution_count": 21,
   "metadata": {
    "id": "2_ixAf_l9hE7"
   },
   "outputs": [],
   "source": [
    "interpreter.set_tensor(input_details[0]['index'], np.array([X_test[0]]))"
   ]
  },
  {
   "cell_type": "code",
   "execution_count": 22,
   "metadata": {
    "colab": {
     "base_uri": "https://localhost:8080/"
    },
    "id": "s4FoAnuc9hE7",
    "outputId": "91f18257-8d8b-4ef3-c558-e9b5f94fabbf",
    "scrolled": true
   },
   "outputs": [
    {
     "name": "stdout",
     "output_type": "stream",
     "text": [
      "CPU times: user 90 µs, sys: 58 µs, total: 148 µs\n",
      "Wall time: 126 µs\n"
     ]
    }
   ],
   "source": [
    "%%time\n",
    "# Inference implementation\n",
    "interpreter.invoke()\n",
    "tflite_results = interpreter.get_tensor(output_details[0]['index'])"
   ]
  },
  {
   "cell_type": "code",
   "execution_count": 23,
   "metadata": {
    "colab": {
     "base_uri": "https://localhost:8080/"
    },
    "id": "vONjp19J9hE8",
    "outputId": "77205e24-fd00-42c4-f7b6-e06e527c2cba"
   },
   "outputs": [
    {
     "name": "stdout",
     "output_type": "stream",
     "text": [
      "[9.6080863e-01 3.3190336e-02 3.3795505e-03 9.5352743e-06 2.6119417e-03]\n",
      "0\n"
     ]
    }
   ],
   "source": [
    "print(np.squeeze(tflite_results))\n",
    "print(np.argmax(np.squeeze(tflite_results)))"
   ]
  }
 ],
 "metadata": {
  "accelerator": "GPU",
  "colab": {
   "collapsed_sections": [],
   "name": "keypoint_classification_EN.ipynb",
   "provenance": [],
   "toc_visible": true
  },
  "kernelspec": {
   "display_name": "Python 3 (ipykernel)",
   "language": "python",
   "name": "python3"
  },
  "language_info": {
   "codemirror_mode": {
    "name": "ipython",
    "version": 3
   },
   "file_extension": ".py",
   "mimetype": "text/x-python",
   "name": "python",
   "nbconvert_exporter": "python",
   "pygments_lexer": "ipython3",
   "version": "3.11.5"
  }
 },
 "nbformat": 4,
 "nbformat_minor": 4
}
